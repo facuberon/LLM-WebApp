{
 "cells": [
  {
   "cell_type": "code",
   "execution_count": 7,
   "metadata": {},
   "outputs": [
    {
     "name": "stdout",
     "output_type": "stream",
     "text": [
      "Note: you may need to restart the kernel to use updated packages.\n"
     ]
    }
   ],
   "source": [
    "pip install --upgrade -q google-api-python-client google-auth-httplib2 google-auth-oauthlib"
   ]
  },
  {
   "cell_type": "code",
   "execution_count": null,
   "metadata": {},
   "outputs": [
    {
     "name": "stderr",
     "output_type": "stream",
     "text": [
      "C:\\Users\\Facundo\\AppData\\Local\\Packages\\PythonSoftwareFoundation.Python.3.13_qbz5n2kfra8p0\\LocalCache\\local-packages\\Python313\\site-packages\\tqdm\\auto.py:21: TqdmWarning: IProgress not found. Please update jupyter and ipywidgets. See https://ipywidgets.readthedocs.io/en/stable/user_install.html\n",
      "  from .autonotebook import tqdm as notebook_tqdm\n"
     ]
    },
    {
     "name": "stdout",
     "output_type": "stream",
     "text": [
      "Artificial intelligence (AI) is a broad field encompassing various techniques that enable computers to mimic human intelligence.  There's no single \"how it works\" answer, as different AI approaches operate on different principles. However, we can break it down into key concepts:\n",
      "\n",
      "**1. Data is the Fuel:**  AI systems learn from data.  The more relevant and high-quality data they're fed, the better they perform. This data can be anything from images and text to sensor readings and financial transactions.\n",
      "\n",
      "**2. Algorithms are the Recipes:** Algorithms are sets of instructions that tell the computer how to process the data.  These algorithms are designed to identify patterns, make predictions, and solve problems.  Different AI approaches use different types of algorithms.\n",
      "\n",
      "**3. Learning is the Process:**  The core of many AI systems is their ability to learn from data without explicit programming. This learning can happen in several ways:\n",
      "\n",
      "* **Supervised Learning:** The algorithm is trained on a labeled dataset, meaning the data is already tagged with the correct answers.  For example, showing the algorithm many pictures of cats and dogs, labeled as such, allows it to learn to distinguish between them.\n",
      "* **Unsupervised Learning:** The algorithm is given unlabeled data and tasked with finding patterns and structures on its own.  This is used for tasks like clustering similar data points or dimensionality reduction.\n",
      "* **Reinforcement Learning:** The algorithm learns through trial and error, receiving rewards for correct actions and penalties for incorrect ones.  This is often used in robotics and game playing.\n",
      "\n",
      "**4. Models are the Outcomes:**  Through the learning process, the algorithm creates a \"model\" – a representation of the patterns and relationships it has discovered in the data.  This model is then used to make predictions or decisions on new, unseen data.  For example, after training on labeled cat and dog images, the model can classify a new image as either a cat or a dog.\n",
      "\n",
      "**5. Specific Techniques:**  Different AI techniques employ specific algorithms and approaches:\n",
      "\n",
      "* **Machine Learning (ML):** A subset of AI focusing on enabling computers to learn from data without explicit programming.  This includes supervised, unsupervised, and reinforcement learning.\n",
      "* **Deep Learning (DL):** A subfield of ML that uses artificial neural networks with multiple layers to analyze data.  Deep learning excels at tasks involving complex patterns, such as image recognition and natural language processing.\n",
      "* **Natural Language Processing (NLP):** Focuses on enabling computers to understand, interpret, and generate human language.\n",
      "* **Computer Vision:** Enables computers to \"see\" and interpret images and videos.\n",
      "\n",
      "\n",
      "**In simple terms:** Imagine teaching a dog a trick. You (the programmer) provide the dog (the algorithm) with treats (data) and instructions (algorithms). The dog learns through repetition and rewards (learning process) and eventually performs the trick (creates a model) consistently.  AI works similarly, but at a much larger scale and with far more complex data and algorithms.\n",
      "\n",
      "\n",
      "It's crucial to remember that AI systems are tools.  Their effectiveness depends on the quality of data, the design of the algorithms, and the expertise of the developers.  They are not sentient or conscious, despite their impressive capabilities.\n",
      "\n"
     ]
    }
   ],
   "source": [
    "from dotenv import load_dotenv\n",
    "import os\n",
    "\n",
    "import google.generativeai as genai\n",
    "\n",
    "api_key = os.getenv(\"API_KEY\")\n",
    "genai.configure(api_key= api_key)\n",
    "    \"model = genai.GenerativeModel(\"gemini-2.5-flash\")\n",
    "\",\n",
    "response = model.generate_content(\"Explain how AI works\")\n",
    "print(response.text)"
   ]
  },
  {
   "cell_type": "code",
   "execution_count": null,
   "metadata": {},
   "outputs": [],
   "source": [
    "#Sugerido por google\n",
    "\n",
    "import os\n",
    "import google.generativeai as genai\n",
    "\n",
    "genai.configure(api_key=os.environ[\"API_KEY\"])\n",
    "\n",
    "# Create the model\n",
    "generation_config = {\n",
    "  \"temperature\": 1,\n",
    "  \"top_p\": 0.95,\n",
    "  \"top_k\": 40,\n",
    "  \"max_output_tokens\": 8192,\n",
    "  \"response_mime_type\": \"text/plain\",\n",
    "}\n",
    "\n",
    "model = genai.GenerativeModel(\n",
    "  model_name=\"gemini-2.0-flash-exp\",\n",
    "  generation_config=generation_config,\n",
    ")\n",
    "\n",
    "chat_session = model.start_chat(\n",
    "  history=[\n",
    "  ]\n",
    ")\n",
    "\n",
    "response = chat_session.send_message(\"INSERT_INPUT_HERE\")\n",
    "\n",
    "print(response.text)"
   ]
  }
 ],
 "metadata": {
  "kernelspec": {
   "display_name": "Python 3",
   "language": "python",
   "name": "python3"
  },
  "language_info": {
   "codemirror_mode": {
    "name": "ipython",
    "version": 3
   },
   "file_extension": ".py",
   "mimetype": "text/x-python",
   "name": "python",
   "nbconvert_exporter": "python",
   "pygments_lexer": "ipython3",
   "version": "3.13.1"
  }
 },
 "nbformat": 4,
 "nbformat_minor": 2
}
